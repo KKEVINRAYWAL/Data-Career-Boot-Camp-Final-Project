{
 "cells": [
  {
   "attachments": {},
   "cell_type": "markdown",
   "metadata": {},
   "source": [
    "The Animals (Object) Detection dataset is not in the form of a CSV file, but rather a collection of image files. \n",
    "To access the image data using the Kaggle API, you can modify the get_animals_detection_images_dataset() function to download and extract the image files from the dataset archive. lets call the get_animals_detection_images_dataset() function or method in the my_ml_project module and see it works. This function will download the dataset archive and extract the image files into the directory ./data/animal-detection-images-dataset. We can then use this directory path to read the image files and build your animal detection model."
   ]
  },
  {
   "cell_type": "code",
   "execution_count": 6,
   "metadata": {},
   "outputs": [
    {
     "name": "stderr",
     "output_type": "stream",
     "text": [
      "2023-04-08 20:46:57,881 - my_ml_project - INFO - Downloading dataset...\n",
      "2023-04-08 20:46:57,881 - my_ml_project - INFO - Downloading dataset...\n",
      "2023-04-08 20:46:58,458 - my_ml_project - ERROR - Error downloading dataset: (403)\n",
      "Reason: Forbidden\n",
      "HTTP response headers: HTTPHeaderDict({'Content-Type': 'application/json', 'Date': 'Sat, 08 Apr 2023 17:46:58 GMT', 'Access-Control-Allow-Credentials': 'true', 'Set-Cookie': 'ka_sessionid=a6077ca62840527b15f9b88df324f442; max-age=2626560; path=/, GCLB=CL7E4suW2vWinAE; path=/; HttpOnly', 'Transfer-Encoding': 'chunked', 'Vary': 'Accept-Encoding', 'Turbolinks-Location': 'https://www.kaggle.com/api/v1/datasets/download/pbprabhat/animal-detection-images-dataset', 'X-Kaggle-MillisecondsElapsed': '31', 'X-Kaggle-RequestId': '1bfdc6b95885271ab08d203b16d68311', 'X-Kaggle-ApiVersion': '1.5.13', 'X-Frame-Options': 'SAMEORIGIN', 'Strict-Transport-Security': 'max-age=63072000; includeSubDomains; preload', 'Content-Security-Policy': \"object-src 'none'; script-src 'nonce-dPcBiPykn4VSBEeuKRrQlA==' 'report-sample' 'unsafe-inline' 'unsafe-eval' 'strict-dynamic' https: http:; frame-src 'self' https://www.kaggleusercontent.com https://www.youtube.com/embed/ https://polygraph-cool.github.io https://www.google.com/recaptcha/ https://form.jotform.com https://submit.jotform.us https://submit.jotformpro.com https://submit.jotform.com https://www.docdroid.com https://www.docdroid.net https://kaggle-static.storage.googleapis.com https://kaggle-static-staging.storage.googleapis.com https://kkb-dev.jupyter-proxy.kaggle.net https://kkb-staging.jupyter-proxy.kaggle.net https://kkb-production.jupyter-proxy.kaggle.net https://kkb-dev.firebaseapp.com https://kkb-staging.firebaseapp.com https://kkb-production.firebaseapp.com https://kaggle-metastore-test.firebaseapp.com https://kaggle-metastore.firebaseapp.com https://apis.google.com https://content-sheets.googleapis.com/ https://accounts.google.com/ https://storage.googleapis.com https://docs.google.com https://drive.google.com https://calendar.google.com/; base-uri 'none'; report-uri https://csp.withgoogle.com/csp/kaggle/20201130;\", 'X-Content-Type-Options': 'nosniff', 'Referrer-Policy': 'strict-origin-when-cross-origin', 'Via': '1.1 google', 'Alt-Svc': 'h3=\":443\"; ma=2592000,h3-29=\":443\"; ma=2592000'})\n",
      "HTTP response body: b'{\"code\":403,\"message\":\"Permission \\\\u0027datasets.get\\\\u0027 was denied\"}'\n",
      "\n",
      "2023-04-08 20:46:58,458 - my_ml_project - ERROR - Error downloading dataset: (403)\n",
      "Reason: Forbidden\n",
      "HTTP response headers: HTTPHeaderDict({'Content-Type': 'application/json', 'Date': 'Sat, 08 Apr 2023 17:46:58 GMT', 'Access-Control-Allow-Credentials': 'true', 'Set-Cookie': 'ka_sessionid=a6077ca62840527b15f9b88df324f442; max-age=2626560; path=/, GCLB=CL7E4suW2vWinAE; path=/; HttpOnly', 'Transfer-Encoding': 'chunked', 'Vary': 'Accept-Encoding', 'Turbolinks-Location': 'https://www.kaggle.com/api/v1/datasets/download/pbprabhat/animal-detection-images-dataset', 'X-Kaggle-MillisecondsElapsed': '31', 'X-Kaggle-RequestId': '1bfdc6b95885271ab08d203b16d68311', 'X-Kaggle-ApiVersion': '1.5.13', 'X-Frame-Options': 'SAMEORIGIN', 'Strict-Transport-Security': 'max-age=63072000; includeSubDomains; preload', 'Content-Security-Policy': \"object-src 'none'; script-src 'nonce-dPcBiPykn4VSBEeuKRrQlA==' 'report-sample' 'unsafe-inline' 'unsafe-eval' 'strict-dynamic' https: http:; frame-src 'self' https://www.kaggleusercontent.com https://www.youtube.com/embed/ https://polygraph-cool.github.io https://www.google.com/recaptcha/ https://form.jotform.com https://submit.jotform.us https://submit.jotformpro.com https://submit.jotform.com https://www.docdroid.com https://www.docdroid.net https://kaggle-static.storage.googleapis.com https://kaggle-static-staging.storage.googleapis.com https://kkb-dev.jupyter-proxy.kaggle.net https://kkb-staging.jupyter-proxy.kaggle.net https://kkb-production.jupyter-proxy.kaggle.net https://kkb-dev.firebaseapp.com https://kkb-staging.firebaseapp.com https://kkb-production.firebaseapp.com https://kaggle-metastore-test.firebaseapp.com https://kaggle-metastore.firebaseapp.com https://apis.google.com https://content-sheets.googleapis.com/ https://accounts.google.com/ https://storage.googleapis.com https://docs.google.com https://drive.google.com https://calendar.google.com/; base-uri 'none'; report-uri https://csp.withgoogle.com/csp/kaggle/20201130;\", 'X-Content-Type-Options': 'nosniff', 'Referrer-Policy': 'strict-origin-when-cross-origin', 'Via': '1.1 google', 'Alt-Svc': 'h3=\":443\"; ma=2592000,h3-29=\":443\"; ma=2592000'})\n",
      "HTTP response body: b'{\"code\":403,\"message\":\"Permission \\\\u0027datasets.get\\\\u0027 was denied\"}'\n",
      "\n"
     ]
    }
   ],
   "source": [
    "import my_ml_project\n",
    "\n",
    "# Get the directory containing the images\n",
    "data_dir = my_ml_project.get_animals_detection_images_dataset()"
   ]
  },
  {
   "attachments": {},
   "cell_type": "markdown",
   "metadata": {},
   "source": [
    "## i changed it to take in in generators lol!\n",
    "we can call the data_preprocessing function after loading the data using the get_animals_detection_images_dataset() function. The output will be four arrays: train_images, train_labels, test_images, and test_labels. These arrays can then be used to train and evaluate a deep learning model. "
   ]
  },
  {
   "cell_type": "code",
   "execution_count": null,
   "metadata": {},
   "outputs": [],
   "source": [
    "import my_ml_project\n",
    "my_ml_project.data_preprocessing(data_dir, img_size, test_size, random_state) "
   ]
  },
  {
   "attachments": {},
   "cell_type": "markdown",
   "metadata": {},
   "source": [
    "lets test the build_model(): This function will create a convolutional neural network (CNN) model for animal detection. "
   ]
  },
  {
   "cell_type": "code",
   "execution_count": null,
   "metadata": {},
   "outputs": [],
   "source": [
    "import my_ml_project\n",
    "\n",
    "# Call the build_model() function to create the model\n",
    "model = my_ml_project.build_model()\n",
    "\n",
    "# Print the model summary\n",
    "model.summary()\n"
   ]
  },
  {
   "attachments": {},
   "cell_type": "markdown",
   "metadata": {},
   "source": [
    "Lets call train_model(): This function will train the CNN model using the training set. Note that the train_datagen and val_datagen objects have been modified to remove the rescale parameter, since the data_preprocessing function already handles rescaling the pixel values.\n",
    "Instead of using the flow_from_directory method, we first load the image data from the directories using the data_preprocessing function, and then use the flow method to create the data generators for both the training and validation sets. [Karas blog that explain this issues is here ](https://blog.keras.io/building-powerful-image-classification-models-using-very-little-data.html)"
   ]
  },
  {
   "cell_type": "code",
   "execution_count": null,
   "metadata": {},
   "outputs": [],
   "source": [
    "train_generator, test_generator = data_preprocessing(data_dir)\n",
    "train_model(model, train_generator, test_generator)\n"
   ]
  },
  {
   "cell_type": "markdown",
   "metadata": {},
   "source": []
  }
 ],
 "metadata": {
  "kernelspec": {
   "display_name": "Python 3",
   "language": "python",
   "name": "python3"
  },
  "language_info": {
   "codemirror_mode": {
    "name": "ipython",
    "version": 3
   },
   "file_extension": ".py",
   "mimetype": "text/x-python",
   "name": "python",
   "nbconvert_exporter": "python",
   "pygments_lexer": "ipython3",
   "version": "3.10.6"
  },
  "orig_nbformat": 4
 },
 "nbformat": 4,
 "nbformat_minor": 2
}

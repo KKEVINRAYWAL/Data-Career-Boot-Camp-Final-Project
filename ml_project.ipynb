{
 "cells": [
  {
   "attachments": {},
   "cell_type": "markdown",
   "metadata": {},
   "source": [
    "The Animals (Object) Detection dataset is not in the form of a CSV file, but rather a collection of image files. \n",
    "To access the image data using the Kaggle API, you can modify the get_animals_detection_images_dataset() function to download and extract the image files from the dataset archive. lets call the get_animals_detection_images_dataset() function or method in the my_ml_project module as see it works. This function will download the dataset archive and extract the image files into the directory ./data/animal-detection-images-dataset. We can then use this directory path to read the image files and build your animal detection model."
   ]
  },
  {
   "cell_type": "code",
   "execution_count": null,
   "metadata": {},
   "outputs": [],
   "source": [
    "import my_ml_project\n",
    "\n",
    "# Get the directory containing the images\n",
    "data_dir = my_ml_project.get_animals_detection_images_dataset()"
   ]
  },
  {
   "attachments": {},
   "cell_type": "markdown",
   "metadata": {},
   "source": [
    "## i changed it to take in in generators lol!\n",
    "we can call the data_preprocessing function after loading the data using the get_animals_detection_images_dataset() function. The output will be four arrays: train_images, train_labels, test_images, and test_labels. These arrays can then be used to train and evaluate a deep learning model. "
   ]
  },
  {
   "cell_type": "code",
   "execution_count": null,
   "metadata": {},
   "outputs": [],
   "source": [
    "import my_ml_project\n",
    "my_ml_project.data_preprocessing(data_dir, img_size, test_size, random_state) "
   ]
  },
  {
   "attachments": {},
   "cell_type": "markdown",
   "metadata": {},
   "source": [
    "lets test the build_model(): This function will create a convolutional neural network (CNN) model for animal detection. "
   ]
  },
  {
   "cell_type": "code",
   "execution_count": null,
   "metadata": {},
   "outputs": [],
   "source": [
    "import my_ml_project\n",
    "\n",
    "# Call the build_model() function to create the model\n",
    "model = my_ml_project.build_model()\n",
    "\n",
    "# Print the model summary\n",
    "model.summary()\n"
   ]
  },
  {
   "attachments": {},
   "cell_type": "markdown",
   "metadata": {},
   "source": [
    "Lets call train_model(): This function will train the CNN model using the training set. Note that the train_datagen and val_datagen objects have been modified to remove the rescale parameter, since the data_preprocessing function already handles rescaling the pixel values.\n",
    "Instead of using the flow_from_directory method, we first load the image data from the directories using the data_preprocessing function, and then use the flow method to create the data generators for both the training and validation sets. [Karas blog that explain this issues is here ](https://blog.keras.io/building-powerful-image-classification-models-using-very-little-data.html)"
   ]
  },
  {
   "cell_type": "code",
   "execution_count": null,
   "metadata": {},
   "outputs": [],
   "source": [
    "train_generator, test_generator = data_preprocessing(data_dir)\n",
    "train_model(model, train_generator, test_generator)\n"
   ]
  },
  {
   "cell_type": "markdown",
   "metadata": {},
   "source": []
  }
 ],
 "metadata": {
  "language_info": {
   "name": "python"
  },
  "orig_nbformat": 4
 },
 "nbformat": 4,
 "nbformat_minor": 2
}
